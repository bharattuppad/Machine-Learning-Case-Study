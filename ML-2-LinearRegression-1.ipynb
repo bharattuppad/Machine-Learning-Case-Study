{
 "cells": [
  {
   "cell_type": "code",
   "execution_count": 1,
   "id": "a4f24cd3",
   "metadata": {},
   "outputs": [],
   "source": [
    "import numpy as np\n",
    "import pandas as pd\n",
    "import matplotlib.pyplot as plt\n",
    "import seaborn as sns\n",
    "\n",
    "import warnings\n",
    "warnings.filterwarnings(\"ignore\")"
   ]
  },
  {
   "cell_type": "code",
   "execution_count": 2,
   "id": "623464b5",
   "metadata": {},
   "outputs": [],
   "source": [
    "x = np.array([1,2,3,4,5])\n",
    "y = np.array([3,4,2,4,5])"
   ]
  },
  {
   "cell_type": "code",
   "execution_count": 4,
   "id": "225a463d",
   "metadata": {},
   "outputs": [],
   "source": [
    "dict = {\"x\":x, \"y\":y}"
   ]
  },
  {
   "cell_type": "code",
   "execution_count": 5,
   "id": "36e8761d",
   "metadata": {},
   "outputs": [],
   "source": [
    "df = pd.DataFrame(dict)"
   ]
  },
  {
   "cell_type": "code",
   "execution_count": 6,
   "id": "e49a064c",
   "metadata": {},
   "outputs": [
    {
     "data": {
      "text/html": [
       "<div>\n",
       "<style scoped>\n",
       "    .dataframe tbody tr th:only-of-type {\n",
       "        vertical-align: middle;\n",
       "    }\n",
       "\n",
       "    .dataframe tbody tr th {\n",
       "        vertical-align: top;\n",
       "    }\n",
       "\n",
       "    .dataframe thead th {\n",
       "        text-align: right;\n",
       "    }\n",
       "</style>\n",
       "<table border=\"1\" class=\"dataframe\">\n",
       "  <thead>\n",
       "    <tr style=\"text-align: right;\">\n",
       "      <th></th>\n",
       "      <th>x</th>\n",
       "      <th>y</th>\n",
       "    </tr>\n",
       "  </thead>\n",
       "  <tbody>\n",
       "    <tr>\n",
       "      <th>0</th>\n",
       "      <td>1</td>\n",
       "      <td>3</td>\n",
       "    </tr>\n",
       "    <tr>\n",
       "      <th>1</th>\n",
       "      <td>2</td>\n",
       "      <td>4</td>\n",
       "    </tr>\n",
       "    <tr>\n",
       "      <th>2</th>\n",
       "      <td>3</td>\n",
       "      <td>2</td>\n",
       "    </tr>\n",
       "    <tr>\n",
       "      <th>3</th>\n",
       "      <td>4</td>\n",
       "      <td>4</td>\n",
       "    </tr>\n",
       "    <tr>\n",
       "      <th>4</th>\n",
       "      <td>5</td>\n",
       "      <td>5</td>\n",
       "    </tr>\n",
       "  </tbody>\n",
       "</table>\n",
       "</div>"
      ],
      "text/plain": [
       "   x  y\n",
       "0  1  3\n",
       "1  2  4\n",
       "2  3  2\n",
       "3  4  4\n",
       "4  5  5"
      ]
     },
     "execution_count": 6,
     "metadata": {},
     "output_type": "execute_result"
    }
   ],
   "source": [
    "df"
   ]
  },
  {
   "cell_type": "code",
   "execution_count": 7,
   "id": "9cb7ab4b",
   "metadata": {},
   "outputs": [
    {
     "name": "stdout",
     "output_type": "stream",
     "text": [
      "3.0\n",
      "3.6\n"
     ]
    }
   ],
   "source": [
    "xmean = x.mean()\n",
    "ymean = y.mean()\n",
    "print(xmean)\n",
    "print(ymean)"
   ]
  },
  {
   "cell_type": "code",
   "execution_count": 8,
   "id": "b5774324",
   "metadata": {},
   "outputs": [
    {
     "data": {
      "text/plain": [
       "0.4"
      ]
     },
     "execution_count": 8,
     "metadata": {},
     "output_type": "execute_result"
    }
   ],
   "source": [
    "m = sum((x-xmean)*(y-ymean)) / sum((x-xmean)**2)\n",
    "m"
   ]
  },
  {
   "cell_type": "code",
   "execution_count": 9,
   "id": "189bdf1d",
   "metadata": {},
   "outputs": [
    {
     "data": {
      "text/plain": [
       "2.4"
      ]
     },
     "execution_count": 9,
     "metadata": {},
     "output_type": "execute_result"
    }
   ],
   "source": [
    "c = ymean - (m*xmean)\n",
    "c"
   ]
  },
  {
   "cell_type": "code",
   "execution_count": 10,
   "id": "f8003e41",
   "metadata": {},
   "outputs": [],
   "source": [
    "def linreg(x):\n",
    "    return (m*x)+c"
   ]
  },
  {
   "cell_type": "code",
   "execution_count": 11,
   "id": "9cf4a88b",
   "metadata": {},
   "outputs": [],
   "source": [
    "ypred = list(map(linreg, x))"
   ]
  },
  {
   "cell_type": "code",
   "execution_count": 12,
   "id": "12c1630f",
   "metadata": {},
   "outputs": [
    {
     "data": {
      "text/plain": [
       "[2.8, 3.2, 3.6, 4.0, 4.4]"
      ]
     },
     "execution_count": 12,
     "metadata": {},
     "output_type": "execute_result"
    }
   ],
   "source": [
    "ypred"
   ]
  },
  {
   "cell_type": "code",
   "execution_count": 17,
   "id": "9e7a824d",
   "metadata": {},
   "outputs": [
    {
     "data": {
      "image/png": "[encoded data removed]",
      "text/plain": [
       "<Figure size 432x288 with 1 Axes>"
      ]
     },
     "metadata": {
      "needs_background": "light"
     },
     "output_type": "display_data"
    }
   ],
   "source": [
    "plt.scatter(x,y, color=\"red\")\n",
    "plt.plot(x,ypred, color=\"blue\")\n",
    "\n",
    "plt.title(\"hours of study vs marks\")\n",
    "plt.xlabel(\"hours of study\")\n",
    "plt.ylabel(\"marks\")\n",
    "plt.grid()\n",
    "plt.show()"
   ]
  },
  {
   "cell_type": "markdown",
   "id": "4fc90793",
   "metadata": {},
   "source": [
    "### Errors "
   ]
  },
  {
   "cell_type": "markdown",
   "id": "09f7fd9f",
   "metadata": {},
   "source": [
    "- Residual"
   ]
  },
  {
   "cell_type": "code",
   "execution_count": null,
   "id": "411a237d",
   "metadata": {},
   "outputs": [],
   "source": [
    "residual = sum((y-ypred)**2)"
   ]
  },
  {
   "cell_type": "markdown",
   "id": "7df99174",
   "metadata": {},
   "source": [
    "- Mean Absolute Error"
   ]
  },
  {
   "cell_type": "code",
   "execution_count": 19,
   "id": "0ff2ba18",
   "metadata": {},
   "outputs": [
    {
     "name": "stdout",
     "output_type": "stream",
     "text": [
      "The mean absolute error is:  0.64\n"
     ]
    }
   ],
   "source": [
    "MAE = sum(abs(y-ypred)) / len(x)\n",
    "print(\"The mean absolute error is: \", round(MAE,2))"
   ]
  },
  {
   "cell_type": "markdown",
   "id": "bf3258f0",
   "metadata": {},
   "source": [
    "- Mean Squared Error"
   ]
  },
  {
   "cell_type": "code",
   "execution_count": 21,
   "id": "c18622aa",
   "metadata": {},
   "outputs": [
    {
     "name": "stdout",
     "output_type": "stream",
     "text": [
      "The mean squared error is:  0.72\n"
     ]
    }
   ],
   "source": [
    "MSE = sum((y-ypred)**2) / len(x)\n",
    "print(\"The mean squared error is: \", round(MSE,2))"
   ]
  },
  {
   "cell_type": "markdown",
   "id": "46caf273",
   "metadata": {},
   "source": [
    "- Root Mean Squared Error"
   ]
  },
  {
   "cell_type": "code",
   "execution_count": 22,
   "id": "4cb8d84a",
   "metadata": {},
   "outputs": [
    {
     "name": "stdout",
     "output_type": "stream",
     "text": [
      "The root mean square error is:  0.85\n"
     ]
    }
   ],
   "source": [
    "RMSE = np.sqrt(MSE)\n",
    "print(\"The root mean square error is: \", round(RMSE,2))"
   ]
  },
  {
   "cell_type": "markdown",
   "id": "9b7b1599",
   "metadata": {},
   "source": [
    "- r2 score"
   ]
  },
  {
   "cell_type": "code",
   "execution_count": 25,
   "id": "8ccfcf0d",
   "metadata": {},
   "outputs": [
    {
     "name": "stdout",
     "output_type": "stream",
     "text": [
      "The r2_score is:  30.77\n"
     ]
    }
   ],
   "source": [
    "r2_score = sum((ypred-ymean)**2) / sum((y-ymean)**2)\n",
    "print(\"The r2_score is: \", round(r2_score*100,2))"
   ]
  },
  {
   "cell_type": "markdown",
   "id": "49d06ba6",
   "metadata": {},
   "source": [
    "- predicting new x value"
   ]
  },
  {
   "cell_type": "code",
   "execution_count": 26,
   "id": "0d2c7228",
   "metadata": {},
   "outputs": [],
   "source": [
    "y_new = linreg(10)"
   ]
  },
  {
   "cell_type": "code",
   "execution_count": 27,
   "id": "2f84332c",
   "metadata": {},
   "outputs": [
    {
     "data": {
      "text/plain": [
       "6.4"
      ]
     },
     "execution_count": 27,
     "metadata": {},
     "output_type": "execute_result"
    }
   ],
   "source": [
    "y_new"
   ]
  },
  {
   "cell_type": "code",
   "execution_count": null,
   "id": "18a013a3",
   "metadata": {},
   "outputs": [],
   "source": []
  }
 ],
 "metadata": {
  "kernelspec": {
   "display_name": "Python 3 (ipykernel)",
   "language": "python",
   "name": "python3"
  },
  "language_info": {
   "codemirror_mode": {
    "name": "ipython",
    "version": 3
   },
   "file_extension": ".py",
   "mimetype": "text/x-python",
   "name": "python",
   "nbconvert_exporter": "python",
   "pygments_lexer": "ipython3",
   "version": "3.9.12"
  }
 },
 "nbformat": 4,
 "nbformat_minor": 5
}
