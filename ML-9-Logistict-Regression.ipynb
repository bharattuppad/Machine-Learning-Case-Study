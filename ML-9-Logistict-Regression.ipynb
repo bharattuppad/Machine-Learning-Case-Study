{
 "cells": [
  {
   "cell_type": "code",
   "execution_count": 1,
   "id": "b86f9110",
   "metadata": {},
   "outputs": [],
   "source": [
    "import numpy as np\n",
    "import pandas as pd\n",
    "import seaborn as sns\n",
    "import matplotlib.pyplot as plt\n",
    "\n",
    "import warnings\n",
    "warnings.filterwarnings(\"ignore\")"
   ]
  },
  {
   "cell_type": "code",
   "execution_count": 2,
   "id": "44f50e45",
   "metadata": {},
   "outputs": [],
   "source": [
    "df = pd.read_csv(\"diabetes.csv\")"
   ]
  },
  {
   "cell_type": "code",
   "execution_count": 3,
   "id": "4b17860d",
   "metadata": {},
   "outputs": [
    {
     "data": {
      "text/html": [
       "<div>\n",
       "<style scoped>\n",
       "    .dataframe tbody tr th:only-of-type {\n",
       "        vertical-align: middle;\n",
       "    }\n",
       "\n",
       "    .dataframe tbody tr th {\n",
       "        vertical-align: top;\n",
       "    }\n",
       "\n",
       "    .dataframe thead th {\n",
       "        text-align: right;\n",
       "    }\n",
       "</style>\n",
       "<table border=\"1\" class=\"dataframe\">\n",
       "  <thead>\n",
       "    <tr style=\"text-align: right;\">\n",
       "      <th></th>\n",
       "      <th>Pregnancies</th>\n",
       "      <th>Glucose</th>\n",
       "      <th>BloodPressure</th>\n",
       "      <th>SkinThickness</th>\n",
       "      <th>Insulin</th>\n",
       "      <th>BMI</th>\n",
       "      <th>DiabetesPedigreeFunction</th>\n",
       "      <th>Age</th>\n",
       "      <th>Outcome</th>\n",
       "    </tr>\n",
       "  </thead>\n",
       "  <tbody>\n",
       "    <tr>\n",
       "      <th>0</th>\n",
       "      <td>6</td>\n",
       "      <td>148</td>\n",
       "      <td>72</td>\n",
       "      <td>35</td>\n",
       "      <td>0</td>\n",
       "      <td>33.6</td>\n",
       "      <td>0.627</td>\n",
       "      <td>50</td>\n",
       "      <td>1</td>\n",
       "    </tr>\n",
       "    <tr>\n",
       "      <th>1</th>\n",
       "      <td>1</td>\n",
       "      <td>85</td>\n",
       "      <td>66</td>\n",
       "      <td>29</td>\n",
       "      <td>0</td>\n",
       "      <td>26.6</td>\n",
       "      <td>0.351</td>\n",
       "      <td>31</td>\n",
       "      <td>0</td>\n",
       "    </tr>\n",
       "    <tr>\n",
       "      <th>2</th>\n",
       "      <td>8</td>\n",
       "      <td>183</td>\n",
       "      <td>64</td>\n",
       "      <td>0</td>\n",
       "      <td>0</td>\n",
       "      <td>23.3</td>\n",
       "      <td>0.672</td>\n",
       "      <td>32</td>\n",
       "      <td>1</td>\n",
       "    </tr>\n",
       "    <tr>\n",
       "      <th>3</th>\n",
       "      <td>1</td>\n",
       "      <td>89</td>\n",
       "      <td>66</td>\n",
       "      <td>23</td>\n",
       "      <td>94</td>\n",
       "      <td>28.1</td>\n",
       "      <td>0.167</td>\n",
       "      <td>21</td>\n",
       "      <td>0</td>\n",
       "    </tr>\n",
       "    <tr>\n",
       "      <th>4</th>\n",
       "      <td>0</td>\n",
       "      <td>137</td>\n",
       "      <td>40</td>\n",
       "      <td>35</td>\n",
       "      <td>168</td>\n",
       "      <td>43.1</td>\n",
       "      <td>2.288</td>\n",
       "      <td>33</td>\n",
       "      <td>1</td>\n",
       "    </tr>\n",
       "  </tbody>\n",
       "</table>\n",
       "</div>"
      ],
      "text/plain": [
       "   Pregnancies  Glucose  BloodPressure  SkinThickness  Insulin   BMI  \\\n",
       "0            6      148             72             35        0  33.6   \n",
       "1            1       85             66             29        0  26.6   \n",
       "2            8      183             64              0        0  23.3   \n",
       "3            1       89             66             23       94  28.1   \n",
       "4            0      137             40             35      168  43.1   \n",
       "\n",
       "   DiabetesPedigreeFunction  Age  Outcome  \n",
       "0                     0.627   50        1  \n",
       "1                     0.351   31        0  \n",
       "2                     0.672   32        1  \n",
       "3                     0.167   21        0  \n",
       "4                     2.288   33        1  "
      ]
     },
     "execution_count": 3,
     "metadata": {},
     "output_type": "execute_result"
    }
   ],
   "source": [
    "df.head()"
   ]
  },
  {
   "cell_type": "code",
   "execution_count": 4,
   "id": "2dc03c12",
   "metadata": {},
   "outputs": [
    {
     "name": "stdout",
     "output_type": "stream",
     "text": [
      "<class 'pandas.core.frame.DataFrame'>\n",
      "RangeIndex: 768 entries, 0 to 767\n",
      "Data columns (total 9 columns):\n",
      " #   Column                    Non-Null Count  Dtype  \n",
      "---  ------                    --------------  -----  \n",
      " 0   Pregnancies               768 non-null    int64  \n",
      " 1   Glucose                   768 non-null    int64  \n",
      " 2   BloodPressure             768 non-null    int64  \n",
      " 3   SkinThickness             768 non-null    int64  \n",
      " 4   Insulin                   768 non-null    int64  \n",
      " 5   BMI                       768 non-null    float64\n",
      " 6   DiabetesPedigreeFunction  768 non-null    float64\n",
      " 7   Age                       768 non-null    int64  \n",
      " 8   Outcome                   768 non-null    int64  \n",
      "dtypes: float64(2), int64(7)\n",
      "memory usage: 54.1 KB\n"
     ]
    }
   ],
   "source": [
    "df.info()"
   ]
  },
  {
   "cell_type": "code",
   "execution_count": 5,
   "id": "0ef6df98",
   "metadata": {},
   "outputs": [
    {
     "data": {
      "text/plain": [
       "Pregnancies                 0\n",
       "Glucose                     0\n",
       "BloodPressure               0\n",
       "SkinThickness               0\n",
       "Insulin                     0\n",
       "BMI                         0\n",
       "DiabetesPedigreeFunction    0\n",
       "Age                         0\n",
       "Outcome                     0\n",
       "dtype: int64"
      ]
     },
     "execution_count": 5,
     "metadata": {},
     "output_type": "execute_result"
    }
   ],
   "source": [
    "df.isnull().sum()"
   ]
  },
  {
   "cell_type": "code",
   "execution_count": 6,
   "id": "81312e3d",
   "metadata": {},
   "outputs": [
    {
     "data": {
      "text/html": [
       "<div>\n",
       "<style scoped>\n",
       "    .dataframe tbody tr th:only-of-type {\n",
       "        vertical-align: middle;\n",
       "    }\n",
       "\n",
       "    .dataframe tbody tr th {\n",
       "        vertical-align: top;\n",
       "    }\n",
       "\n",
       "    .dataframe thead th {\n",
       "        text-align: right;\n",
       "    }\n",
       "</style>\n",
       "<table border=\"1\" class=\"dataframe\">\n",
       "  <thead>\n",
       "    <tr style=\"text-align: right;\">\n",
       "      <th></th>\n",
       "      <th>Pregnancies</th>\n",
       "      <th>Glucose</th>\n",
       "      <th>BloodPressure</th>\n",
       "      <th>SkinThickness</th>\n",
       "      <th>Insulin</th>\n",
       "      <th>BMI</th>\n",
       "      <th>DiabetesPedigreeFunction</th>\n",
       "      <th>Age</th>\n",
       "      <th>Outcome</th>\n",
       "    </tr>\n",
       "  </thead>\n",
       "  <tbody>\n",
       "    <tr>\n",
       "      <th>count</th>\n",
       "      <td>768.000000</td>\n",
       "      <td>768.000000</td>\n",
       "      <td>768.000000</td>\n",
       "      <td>768.000000</td>\n",
       "      <td>768.000000</td>\n",
       "      <td>768.000000</td>\n",
       "      <td>768.000000</td>\n",
       "      <td>768.000000</td>\n",
       "      <td>768.000000</td>\n",
       "    </tr>\n",
       "    <tr>\n",
       "      <th>mean</th>\n",
       "      <td>3.845052</td>\n",
       "      <td>120.894531</td>\n",
       "      <td>69.105469</td>\n",
       "      <td>20.536458</td>\n",
       "      <td>79.799479</td>\n",
       "      <td>31.992578</td>\n",
       "      <td>0.471876</td>\n",
       "      <td>33.240885</td>\n",
       "      <td>0.348958</td>\n",
       "    </tr>\n",
       "    <tr>\n",
       "      <th>std</th>\n",
       "      <td>3.369578</td>\n",
       "      <td>31.972618</td>\n",
       "      <td>19.355807</td>\n",
       "      <td>15.952218</td>\n",
       "      <td>115.244002</td>\n",
       "      <td>7.884160</td>\n",
       "      <td>0.331329</td>\n",
       "      <td>11.760232</td>\n",
       "      <td>0.476951</td>\n",
       "    </tr>\n",
       "    <tr>\n",
       "      <th>min</th>\n",
       "      <td>0.000000</td>\n",
       "      <td>0.000000</td>\n",
       "      <td>0.000000</td>\n",
       "      <td>0.000000</td>\n",
       "      <td>0.000000</td>\n",
       "      <td>0.000000</td>\n",
       "      <td>0.078000</td>\n",
       "      <td>21.000000</td>\n",
       "      <td>0.000000</td>\n",
       "    </tr>\n",
       "    <tr>\n",
       "      <th>25%</th>\n",
       "      <td>1.000000</td>\n",
       "      <td>99.000000</td>\n",
       "      <td>62.000000</td>\n",
       "      <td>0.000000</td>\n",
       "      <td>0.000000</td>\n",
       "      <td>27.300000</td>\n",
       "      <td>0.243750</td>\n",
       "      <td>24.000000</td>\n",
       "      <td>0.000000</td>\n",
       "    </tr>\n",
       "    <tr>\n",
       "      <th>50%</th>\n",
       "      <td>3.000000</td>\n",
       "      <td>117.000000</td>\n",
       "      <td>72.000000</td>\n",
       "      <td>23.000000</td>\n",
       "      <td>30.500000</td>\n",
       "      <td>32.000000</td>\n",
       "      <td>0.372500</td>\n",
       "      <td>29.000000</td>\n",
       "      <td>0.000000</td>\n",
       "    </tr>\n",
       "    <tr>\n",
       "      <th>75%</th>\n",
       "      <td>6.000000</td>\n",
       "      <td>140.250000</td>\n",
       "      <td>80.000000</td>\n",
       "      <td>32.000000</td>\n",
       "      <td>127.250000</td>\n",
       "      <td>36.600000</td>\n",
       "      <td>0.626250</td>\n",
       "      <td>41.000000</td>\n",
       "      <td>1.000000</td>\n",
       "    </tr>\n",
       "    <tr>\n",
       "      <th>max</th>\n",
       "      <td>17.000000</td>\n",
       "      <td>199.000000</td>\n",
       "      <td>122.000000</td>\n",
       "      <td>99.000000</td>\n",
       "      <td>846.000000</td>\n",
       "      <td>67.100000</td>\n",
       "      <td>2.420000</td>\n",
       "      <td>81.000000</td>\n",
       "      <td>1.000000</td>\n",
       "    </tr>\n",
       "  </tbody>\n",
       "</table>\n",
       "</div>"
      ],
      "text/plain": [
       "       Pregnancies     Glucose  BloodPressure  SkinThickness     Insulin  \\\n",
       "count   768.000000  768.000000     768.000000     768.000000  768.000000   \n",
       "mean      3.845052  120.894531      69.105469      20.536458   79.799479   \n",
       "std       3.369578   31.972618      19.355807      15.952218  115.244002   \n",
       "min       0.000000    0.000000       0.000000       0.000000    0.000000   \n",
       "25%       1.000000   99.000000      62.000000       0.000000    0.000000   \n",
       "50%       3.000000  117.000000      72.000000      23.000000   30.500000   \n",
       "75%       6.000000  140.250000      80.000000      32.000000  127.250000   \n",
       "max      17.000000  199.000000     122.000000      99.000000  846.000000   \n",
       "\n",
       "              BMI  DiabetesPedigreeFunction         Age     Outcome  \n",
       "count  768.000000                768.000000  768.000000  768.000000  \n",
       "mean    31.992578                  0.471876   33.240885    0.348958  \n",
       "std      7.884160                  0.331329   11.760232    0.476951  \n",
       "min      0.000000                  0.078000   21.000000    0.000000  \n",
       "25%     27.300000                  0.243750   24.000000    0.000000  \n",
       "50%     32.000000                  0.372500   29.000000    0.000000  \n",
       "75%     36.600000                  0.626250   41.000000    1.000000  \n",
       "max     67.100000                  2.420000   81.000000    1.000000  "
      ]
     },
     "execution_count": 6,
     "metadata": {},
     "output_type": "execute_result"
    }
   ],
   "source": [
    "df.describe()"
   ]
  },
  {
   "cell_type": "markdown",
   "id": "d364f915",
   "metadata": {},
   "source": [
    "- pregnancy can be zero\n",
    "- Glucose, BloodPressure, SkinThickness, Insulin, BMI can not be zero"
   ]
  },
  {
   "cell_type": "code",
   "execution_count": 7,
   "id": "5ebcf06c",
   "metadata": {},
   "outputs": [],
   "source": [
    "for i in ['Glucose', 'BloodPressure', 'SkinThickness', 'Insulin', 'BMI']:\n",
    "    df[i].replace(0, df[i].mean(), inplace = True)\n",
    "    #try once with median"
   ]
  },
  {
   "cell_type": "code",
   "execution_count": 8,
   "id": "0d9b8cc9",
   "metadata": {},
   "outputs": [
    {
     "data": {
      "text/html": [
       "<div>\n",
       "<style scoped>\n",
       "    .dataframe tbody tr th:only-of-type {\n",
       "        vertical-align: middle;\n",
       "    }\n",
       "\n",
       "    .dataframe tbody tr th {\n",
       "        vertical-align: top;\n",
       "    }\n",
       "\n",
       "    .dataframe thead th {\n",
       "        text-align: right;\n",
       "    }\n",
       "</style>\n",
       "<table border=\"1\" class=\"dataframe\">\n",
       "  <thead>\n",
       "    <tr style=\"text-align: right;\">\n",
       "      <th></th>\n",
       "      <th>Pregnancies</th>\n",
       "      <th>Glucose</th>\n",
       "      <th>BloodPressure</th>\n",
       "      <th>SkinThickness</th>\n",
       "      <th>Insulin</th>\n",
       "      <th>BMI</th>\n",
       "      <th>DiabetesPedigreeFunction</th>\n",
       "      <th>Age</th>\n",
       "      <th>Outcome</th>\n",
       "    </tr>\n",
       "  </thead>\n",
       "  <tbody>\n",
       "    <tr>\n",
       "      <th>count</th>\n",
       "      <td>768.000000</td>\n",
       "      <td>768.000000</td>\n",
       "      <td>768.000000</td>\n",
       "      <td>768.000000</td>\n",
       "      <td>768.000000</td>\n",
       "      <td>768.000000</td>\n",
       "      <td>768.000000</td>\n",
       "      <td>768.000000</td>\n",
       "      <td>768.000000</td>\n",
       "    </tr>\n",
       "    <tr>\n",
       "      <th>mean</th>\n",
       "      <td>3.845052</td>\n",
       "      <td>121.681605</td>\n",
       "      <td>72.254807</td>\n",
       "      <td>26.606479</td>\n",
       "      <td>118.660163</td>\n",
       "      <td>32.450805</td>\n",
       "      <td>0.471876</td>\n",
       "      <td>33.240885</td>\n",
       "      <td>0.348958</td>\n",
       "    </tr>\n",
       "    <tr>\n",
       "      <th>std</th>\n",
       "      <td>3.369578</td>\n",
       "      <td>30.436016</td>\n",
       "      <td>12.115932</td>\n",
       "      <td>9.631241</td>\n",
       "      <td>93.080358</td>\n",
       "      <td>6.875374</td>\n",
       "      <td>0.331329</td>\n",
       "      <td>11.760232</td>\n",
       "      <td>0.476951</td>\n",
       "    </tr>\n",
       "    <tr>\n",
       "      <th>min</th>\n",
       "      <td>0.000000</td>\n",
       "      <td>44.000000</td>\n",
       "      <td>24.000000</td>\n",
       "      <td>7.000000</td>\n",
       "      <td>14.000000</td>\n",
       "      <td>18.200000</td>\n",
       "      <td>0.078000</td>\n",
       "      <td>21.000000</td>\n",
       "      <td>0.000000</td>\n",
       "    </tr>\n",
       "    <tr>\n",
       "      <th>25%</th>\n",
       "      <td>1.000000</td>\n",
       "      <td>99.750000</td>\n",
       "      <td>64.000000</td>\n",
       "      <td>20.536458</td>\n",
       "      <td>79.799479</td>\n",
       "      <td>27.500000</td>\n",
       "      <td>0.243750</td>\n",
       "      <td>24.000000</td>\n",
       "      <td>0.000000</td>\n",
       "    </tr>\n",
       "    <tr>\n",
       "      <th>50%</th>\n",
       "      <td>3.000000</td>\n",
       "      <td>117.000000</td>\n",
       "      <td>72.000000</td>\n",
       "      <td>23.000000</td>\n",
       "      <td>79.799479</td>\n",
       "      <td>32.000000</td>\n",
       "      <td>0.372500</td>\n",
       "      <td>29.000000</td>\n",
       "      <td>0.000000</td>\n",
       "    </tr>\n",
       "    <tr>\n",
       "      <th>75%</th>\n",
       "      <td>6.000000</td>\n",
       "      <td>140.250000</td>\n",
       "      <td>80.000000</td>\n",
       "      <td>32.000000</td>\n",
       "      <td>127.250000</td>\n",
       "      <td>36.600000</td>\n",
       "      <td>0.626250</td>\n",
       "      <td>41.000000</td>\n",
       "      <td>1.000000</td>\n",
       "    </tr>\n",
       "    <tr>\n",
       "      <th>max</th>\n",
       "      <td>17.000000</td>\n",
       "      <td>199.000000</td>\n",
       "      <td>122.000000</td>\n",
       "      <td>99.000000</td>\n",
       "      <td>846.000000</td>\n",
       "      <td>67.100000</td>\n",
       "      <td>2.420000</td>\n",
       "      <td>81.000000</td>\n",
       "      <td>1.000000</td>\n",
       "    </tr>\n",
       "  </tbody>\n",
       "</table>\n",
       "</div>"
      ],
      "text/plain": [
       "       Pregnancies     Glucose  BloodPressure  SkinThickness     Insulin  \\\n",
       "count   768.000000  768.000000     768.000000     768.000000  768.000000   \n",
       "mean      3.845052  121.681605      72.254807      26.606479  118.660163   \n",
       "std       3.369578   30.436016      12.115932       9.631241   93.080358   \n",
       "min       0.000000   44.000000      24.000000       7.000000   14.000000   \n",
       "25%       1.000000   99.750000      64.000000      20.536458   79.799479   \n",
       "50%       3.000000  117.000000      72.000000      23.000000   79.799479   \n",
       "75%       6.000000  140.250000      80.000000      32.000000  127.250000   \n",
       "max      17.000000  199.000000     122.000000      99.000000  846.000000   \n",
       "\n",
       "              BMI  DiabetesPedigreeFunction         Age     Outcome  \n",
       "count  768.000000                768.000000  768.000000  768.000000  \n",
       "mean    32.450805                  0.471876   33.240885    0.348958  \n",
       "std      6.875374                  0.331329   11.760232    0.476951  \n",
       "min     18.200000                  0.078000   21.000000    0.000000  \n",
       "25%     27.500000                  0.243750   24.000000    0.000000  \n",
       "50%     32.000000                  0.372500   29.000000    0.000000  \n",
       "75%     36.600000                  0.626250   41.000000    1.000000  \n",
       "max     67.100000                  2.420000   81.000000    1.000000  "
      ]
     },
     "execution_count": 8,
     "metadata": {},
     "output_type": "execute_result"
    }
   ],
   "source": [
    "df.describe()"
   ]
  },
  {
   "cell_type": "code",
   "execution_count": 9,
   "id": "72c99b4a",
   "metadata": {},
   "outputs": [],
   "source": [
    "x = df.iloc[:, 1:-1]\n",
    "y = df['Outcome']"
   ]
  },
  {
   "cell_type": "code",
   "execution_count": 10,
   "id": "c1294549",
   "metadata": {},
   "outputs": [],
   "source": [
    "from sklearn.model_selection import train_test_split\n",
    "xtrain, xtest, ytrain, ytest = train_test_split(x, y, test_size = 0.25, random_state = 123)"
   ]
  },
  {
   "cell_type": "code",
   "execution_count": 11,
   "id": "4326c56f",
   "metadata": {},
   "outputs": [],
   "source": [
    "from sklearn.linear_model import LogisticRegression"
   ]
  },
  {
   "cell_type": "code",
   "execution_count": 12,
   "id": "98a5e0f4",
   "metadata": {},
   "outputs": [],
   "source": [
    "logreg = LogisticRegression()\n",
    "logreg.fit(xtrain, ytrain)\n",
    "ypred = logreg.predict(xtest)"
   ]
  },
  {
   "cell_type": "code",
   "execution_count": 15,
   "id": "62877abd",
   "metadata": {},
   "outputs": [
    {
     "name": "stdout",
     "output_type": "stream",
     "text": [
      "Accuracy of the model is: 0.7864583333333334\n",
      "Classification report: \n",
      "              precision    recall  f1-score   support\n",
      "\n",
      "           0       0.79      0.89      0.84       119\n",
      "           1       0.78      0.62      0.69        73\n",
      "\n",
      "    accuracy                           0.79       192\n",
      "   macro avg       0.78      0.75      0.76       192\n",
      "weighted avg       0.79      0.79      0.78       192\n",
      "\n",
      "Confusion Matrix: \n",
      "[[106  13]\n",
      " [ 28  45]]\n"
     ]
    }
   ],
   "source": [
    "from sklearn.metrics import accuracy_score, classification_report, confusion_matrix\n",
    "ac = accuracy_score(ytest, ypred)\n",
    "cr = classification_report(ytest, ypred)\n",
    "cm = confusion_matrix(ytest, ypred)\n",
    "print(f'Accuracy of the model is: {ac}')\n",
    "print(f'Classification report: ')\n",
    "print(cr)\n",
    "print(f'Confusion Matrix: ')\n",
    "print(cm)"
   ]
  },
  {
   "cell_type": "markdown",
   "id": "12188f5b",
   "metadata": {},
   "source": [
    "## Hypertune using Solver Parameter "
   ]
  },
  {
   "cell_type": "code",
   "execution_count": 16,
   "id": "d70b73d2",
   "metadata": {},
   "outputs": [],
   "source": [
    "logreg = LogisticRegression(solver = 'liblinear')\n",
    "logreg.fit(xtrain, ytrain)\n",
    "ypred = logreg.predict(xtest)"
   ]
  },
  {
   "cell_type": "code",
   "execution_count": 17,
   "id": "33967de9",
   "metadata": {},
   "outputs": [
    {
     "name": "stdout",
     "output_type": "stream",
     "text": [
      "              precision    recall  f1-score   support\n",
      "\n",
      "           0       0.80      0.92      0.86       119\n",
      "           1       0.83      0.62      0.71        73\n",
      "\n",
      "    accuracy                           0.81       192\n",
      "   macro avg       0.82      0.77      0.78       192\n",
      "weighted avg       0.81      0.81      0.80       192\n",
      "\n"
     ]
    }
   ],
   "source": [
    "print(classification_report(ytest, ypred))"
   ]
  },
  {
   "cell_type": "code",
   "execution_count": 18,
   "id": "5eefcb19",
   "metadata": {},
   "outputs": [],
   "source": [
    "logreg = LogisticRegression(solver = 'saga')\n",
    "logreg.fit(xtrain, ytrain)\n",
    "ypred = logreg.predict(xtest)"
   ]
  },
  {
   "cell_type": "code",
   "execution_count": 19,
   "id": "31d5cad0",
   "metadata": {},
   "outputs": [
    {
     "name": "stdout",
     "output_type": "stream",
     "text": [
      "              precision    recall  f1-score   support\n",
      "\n",
      "           0       0.70      0.92      0.79       119\n",
      "           1       0.72      0.36      0.48        73\n",
      "\n",
      "    accuracy                           0.70       192\n",
      "   macro avg       0.71      0.64      0.63       192\n",
      "weighted avg       0.71      0.70      0.67       192\n",
      "\n"
     ]
    }
   ],
   "source": [
    "print(classification_report(ytest, ypred))"
   ]
  },
  {
   "cell_type": "code",
   "execution_count": 20,
   "id": "e8547d2c",
   "metadata": {},
   "outputs": [],
   "source": [
    "#FEATURE SCALING"
   ]
  },
  {
   "cell_type": "code",
   "execution_count": 21,
   "id": "edf5f87a",
   "metadata": {},
   "outputs": [],
   "source": [
    "from sklearn.preprocessing import StandardScaler\n",
    "sc = StandardScaler()\n",
    "xtrain = sc.fit_transform(xtrain)\n",
    "xtest = sc.transform(xtest)"
   ]
  },
  {
   "cell_type": "code",
   "execution_count": 22,
   "id": "b1bd8605",
   "metadata": {},
   "outputs": [],
   "source": [
    "logreg = LogisticRegression(solver = 'saga')\n",
    "logreg.fit(xtrain, ytrain)\n",
    "ypred = logreg.predict(xtest)"
   ]
  },
  {
   "cell_type": "code",
   "execution_count": 23,
   "id": "ffeb7c84",
   "metadata": {},
   "outputs": [
    {
     "name": "stdout",
     "output_type": "stream",
     "text": [
      "              precision    recall  f1-score   support\n",
      "\n",
      "           0       0.79      0.89      0.84       119\n",
      "           1       0.78      0.62      0.69        73\n",
      "\n",
      "    accuracy                           0.79       192\n",
      "   macro avg       0.78      0.75      0.76       192\n",
      "weighted avg       0.79      0.79      0.78       192\n",
      "\n"
     ]
    }
   ],
   "source": [
    "print(classification_report(ytest, ypred))"
   ]
  },
  {
   "cell_type": "markdown",
   "id": "5c195834",
   "metadata": {},
   "source": [
    "## ROC AUC cruve"
   ]
  },
  {
   "cell_type": "code",
   "execution_count": 27,
   "id": "ea74c3fa",
   "metadata": {},
   "outputs": [
    {
     "name": "stdout",
     "output_type": "stream",
     "text": [
      "Actual values: [1 0 0 0 0 1 1 1 1 0 1 0 0 0 1 0 1 0 0 0 0 0 1 1 1]\n",
      "Predicted values: [1 0 0 0 0 1 1 0 1 0 1 0 0 0 1 0 0 0 0 0 1 0 0 1 1]\n"
     ]
    }
   ],
   "source": [
    "print(f'Actual values: {ytest[:25].values}')\n",
    "print(f'Predicted values: {ypred[:25]}')"
   ]
  },
  {
   "cell_type": "code",
   "execution_count": 28,
   "id": "4f9f35a5",
   "metadata": {},
   "outputs": [
    {
     "data": {
      "text/plain": [
       "array([[0.12705932, 0.87294068],\n",
       "       [0.67011213, 0.32988787],\n",
       "       [0.5414254 , 0.4585746 ],\n",
       "       [0.95070107, 0.04929893],\n",
       "       [0.90163946, 0.09836054],\n",
       "       [0.43075643, 0.56924357],\n",
       "       [0.12508511, 0.87491489],\n",
       "       [0.75697718, 0.24302282],\n",
       "       [0.38193089, 0.61806911],\n",
       "       [0.70801302, 0.29198698],\n",
       "       [0.1860971 , 0.8139029 ],\n",
       "       [0.91137668, 0.08862332],\n",
       "       [0.87818696, 0.12181304],\n",
       "       [0.73535121, 0.26464879],\n",
       "       [0.18744081, 0.81255919],\n",
       "       [0.95479461, 0.04520539],\n",
       "       [0.86851312, 0.13148688],\n",
       "       [0.91807678, 0.08192322],\n",
       "       [0.94546878, 0.05453122],\n",
       "       [0.51853629, 0.48146371],\n",
       "       [0.37292553, 0.62707447],\n",
       "       [0.78797713, 0.21202287],\n",
       "       [0.71295841, 0.28704159],\n",
       "       [0.07440851, 0.92559149],\n",
       "       [0.03664016, 0.96335984],\n",
       "       [0.89465947, 0.10534053],\n",
       "       [0.93915241, 0.06084759],\n",
       "       [0.73304468, 0.26695532],\n",
       "       [0.69216637, 0.30783363],\n",
       "       [0.21920168, 0.78079832],\n",
       "       [0.77860189, 0.22139811],\n",
       "       [0.12082733, 0.87917267],\n",
       "       [0.17900978, 0.82099022],\n",
       "       [0.84711946, 0.15288054],\n",
       "       [0.69687261, 0.30312739],\n",
       "       [0.71668505, 0.28331495],\n",
       "       [0.10557926, 0.89442074],\n",
       "       [0.8792039 , 0.1207961 ],\n",
       "       [0.88448842, 0.11551158],\n",
       "       [0.6891785 , 0.3108215 ],\n",
       "       [0.95907744, 0.04092256],\n",
       "       [0.74819628, 0.25180372],\n",
       "       [0.78704988, 0.21295012],\n",
       "       [0.36929212, 0.63070788],\n",
       "       [0.86416253, 0.13583747],\n",
       "       [0.6905269 , 0.3094731 ],\n",
       "       [0.22628755, 0.77371245],\n",
       "       [0.97729242, 0.02270758],\n",
       "       [0.87299197, 0.12700803],\n",
       "       [0.93914505, 0.06085495],\n",
       "       [0.95295244, 0.04704756],\n",
       "       [0.93274053, 0.06725947],\n",
       "       [0.82016917, 0.17983083],\n",
       "       [0.95659741, 0.04340259],\n",
       "       [0.76012094, 0.23987906],\n",
       "       [0.88370837, 0.11629163],\n",
       "       [0.45766231, 0.54233769],\n",
       "       [0.56097541, 0.43902459],\n",
       "       [0.20870025, 0.79129975],\n",
       "       [0.46518363, 0.53481637],\n",
       "       [0.79061599, 0.20938401],\n",
       "       [0.51659093, 0.48340907],\n",
       "       [0.53029931, 0.46970069],\n",
       "       [0.88169306, 0.11830694],\n",
       "       [0.85941583, 0.14058417],\n",
       "       [0.84015029, 0.15984971],\n",
       "       [0.19838295, 0.80161705],\n",
       "       [0.71228136, 0.28771864],\n",
       "       [0.95517164, 0.04482836],\n",
       "       [0.70468099, 0.29531901],\n",
       "       [0.62690079, 0.37309921],\n",
       "       [0.55213317, 0.44786683],\n",
       "       [0.32889084, 0.67110916],\n",
       "       [0.82671803, 0.17328197],\n",
       "       [0.57207403, 0.42792597],\n",
       "       [0.93291869, 0.06708131],\n",
       "       [0.93326209, 0.06673791],\n",
       "       [0.64962354, 0.35037646],\n",
       "       [0.33282149, 0.66717851],\n",
       "       [0.86260711, 0.13739289],\n",
       "       [0.72944418, 0.27055582],\n",
       "       [0.20193976, 0.79806024],\n",
       "       [0.31122728, 0.68877272],\n",
       "       [0.40006016, 0.59993984],\n",
       "       [0.58642377, 0.41357623],\n",
       "       [0.9712527 , 0.0287473 ],\n",
       "       [0.28848559, 0.71151441],\n",
       "       [0.9545379 , 0.0454621 ],\n",
       "       [0.08425991, 0.91574009],\n",
       "       [0.61569212, 0.38430788],\n",
       "       [0.92040145, 0.07959855],\n",
       "       [0.58235019, 0.41764981],\n",
       "       [0.88192751, 0.11807249],\n",
       "       [0.79144944, 0.20855056],\n",
       "       [0.44333204, 0.55666796],\n",
       "       [0.87395059, 0.12604941],\n",
       "       [0.65798262, 0.34201738],\n",
       "       [0.14321709, 0.85678291],\n",
       "       [0.78589185, 0.21410815],\n",
       "       [0.80216257, 0.19783743],\n",
       "       [0.72263276, 0.27736724],\n",
       "       [0.34821583, 0.65178417],\n",
       "       [0.86189644, 0.13810356],\n",
       "       [0.94012751, 0.05987249],\n",
       "       [0.95171233, 0.04828767],\n",
       "       [0.61755092, 0.38244908],\n",
       "       [0.95773817, 0.04226183],\n",
       "       [0.23005095, 0.76994905],\n",
       "       [0.68510992, 0.31489008],\n",
       "       [0.90413053, 0.09586947],\n",
       "       [0.2245164 , 0.7754836 ],\n",
       "       [0.9321117 , 0.0678883 ],\n",
       "       [0.46050794, 0.53949206],\n",
       "       [0.4371683 , 0.5628317 ],\n",
       "       [0.47716089, 0.52283911],\n",
       "       [0.94599484, 0.05400516],\n",
       "       [0.90098963, 0.09901037],\n",
       "       [0.36697577, 0.63302423],\n",
       "       [0.52017796, 0.47982204],\n",
       "       [0.73999355, 0.26000645],\n",
       "       [0.59967979, 0.40032021],\n",
       "       [0.34129105, 0.65870895],\n",
       "       [0.75721407, 0.24278593],\n",
       "       [0.5809059 , 0.4190941 ],\n",
       "       [0.88198351, 0.11801649],\n",
       "       [0.11642535, 0.88357465],\n",
       "       [0.79195313, 0.20804687],\n",
       "       [0.73533852, 0.26466148],\n",
       "       [0.75528183, 0.24471817],\n",
       "       [0.85706197, 0.14293803],\n",
       "       [0.89824692, 0.10175308],\n",
       "       [0.44788926, 0.55211074],\n",
       "       [0.23325786, 0.76674214],\n",
       "       [0.95368783, 0.04631217],\n",
       "       [0.81135049, 0.18864951],\n",
       "       [0.9364388 , 0.0635612 ],\n",
       "       [0.94430824, 0.05569176],\n",
       "       [0.1656143 , 0.8343857 ],\n",
       "       [0.92434897, 0.07565103],\n",
       "       [0.78848518, 0.21151482],\n",
       "       [0.33505195, 0.66494805],\n",
       "       [0.26218396, 0.73781604],\n",
       "       [0.60750564, 0.39249436],\n",
       "       [0.95234658, 0.04765342],\n",
       "       [0.79293358, 0.20706642],\n",
       "       [0.758807  , 0.241193  ],\n",
       "       [0.89567815, 0.10432185],\n",
       "       [0.70949717, 0.29050283],\n",
       "       [0.84259144, 0.15740856],\n",
       "       [0.94976574, 0.05023426],\n",
       "       [0.046336  , 0.953664  ],\n",
       "       [0.9509086 , 0.0490914 ],\n",
       "       [0.85769058, 0.14230942],\n",
       "       [0.93545259, 0.06454741],\n",
       "       [0.72647203, 0.27352797],\n",
       "       [0.79722617, 0.20277383],\n",
       "       [0.35052251, 0.64947749],\n",
       "       [0.90772333, 0.09227667],\n",
       "       [0.84128028, 0.15871972],\n",
       "       [0.2185514 , 0.7814486 ],\n",
       "       [0.79974307, 0.20025693],\n",
       "       [0.86470191, 0.13529809],\n",
       "       [0.72154173, 0.27845827],\n",
       "       [0.22048688, 0.77951312],\n",
       "       [0.13296727, 0.86703273],\n",
       "       [0.42305522, 0.57694478],\n",
       "       [0.87041278, 0.12958722],\n",
       "       [0.8549556 , 0.1450444 ],\n",
       "       [0.76240879, 0.23759121],\n",
       "       [0.25929627, 0.74070373],\n",
       "       [0.68991842, 0.31008158],\n",
       "       [0.2371191 , 0.7628809 ],\n",
       "       [0.5855878 , 0.4144122 ],\n",
       "       [0.79754521, 0.20245479],\n",
       "       [0.72245062, 0.27754938],\n",
       "       [0.82135996, 0.17864004],\n",
       "       [0.87972584, 0.12027416],\n",
       "       [0.81712226, 0.18287774],\n",
       "       [0.33099654, 0.66900346],\n",
       "       [0.3653003 , 0.6346997 ],\n",
       "       [0.9048526 , 0.0951474 ],\n",
       "       [0.33508454, 0.66491546],\n",
       "       [0.27302581, 0.72697419],\n",
       "       [0.85358586, 0.14641414],\n",
       "       [0.18053515, 0.81946485],\n",
       "       [0.7071847 , 0.2928153 ],\n",
       "       [0.95668889, 0.04331111],\n",
       "       [0.47311821, 0.52688179],\n",
       "       [0.44500409, 0.55499591],\n",
       "       [0.86155126, 0.13844874],\n",
       "       [0.43122322, 0.56877678],\n",
       "       [0.86824899, 0.13175101]])"
      ]
     },
     "execution_count": 28,
     "metadata": {},
     "output_type": "execute_result"
    }
   ],
   "source": [
    "logreg.predict_proba(xtest)"
   ]
  },
  {
   "cell_type": "markdown",
   "id": "85ee4140",
   "metadata": {},
   "source": [
    "- first column gives value of the probability that 1st point chances of being predicted 0\n",
    "- Second column gives probabilistic value that 1st point chances of being predicted 1"
   ]
  },
  {
   "cell_type": "code",
   "execution_count": 29,
   "id": "ed21975f",
   "metadata": {},
   "outputs": [],
   "source": [
    "ypredprob = logreg.predict_proba(xtest)[:,1]"
   ]
  },
  {
   "cell_type": "code",
   "execution_count": 30,
   "id": "bff0307f",
   "metadata": {},
   "outputs": [],
   "source": [
    "#changing the threshold manually"
   ]
  },
  {
   "cell_type": "code",
   "execution_count": 31,
   "id": "c5ee7e9a",
   "metadata": {},
   "outputs": [],
   "source": [
    "from sklearn.preprocessing import binarize"
   ]
  },
  {
   "cell_type": "code",
   "execution_count": 32,
   "id": "1bb42636",
   "metadata": {},
   "outputs": [],
   "source": [
    "ypred = binarize([ypredprob], threshold = 0.3)"
   ]
  },
  {
   "cell_type": "code",
   "execution_count": 33,
   "id": "43b20c0e",
   "metadata": {},
   "outputs": [
    {
     "data": {
      "text/plain": [
       "array([[1., 1., 1., 0., 0., 1., 1., 0., 1., 0., 1., 0., 0., 0., 1., 0.,\n",
       "        0., 0., 0., 1., 1., 0., 0., 1., 1., 0., 0., 0., 1., 1., 0., 1.,\n",
       "        1., 0., 1., 0., 1., 0., 0., 1., 0., 0., 0., 1., 0., 1., 1., 0.,\n",
       "        0., 0., 0., 0., 0., 0., 0., 0., 1., 1., 1., 1., 0., 1., 1., 0.,\n",
       "        0., 0., 1., 0., 0., 0., 1., 1., 1., 0., 1., 0., 0., 1., 1., 0.,\n",
       "        0., 1., 1., 1., 1., 0., 1., 0., 1., 1., 0., 1., 0., 0., 1., 0.,\n",
       "        1., 1., 0., 0., 0., 1., 0., 0., 0., 1., 0., 1., 1., 0., 1., 0.,\n",
       "        1., 1., 1., 0., 0., 1., 1., 0., 1., 1., 0., 1., 0., 1., 0., 0.,\n",
       "        0., 0., 0., 1., 1., 0., 0., 0., 0., 1., 0., 0., 1., 1., 1., 0.,\n",
       "        0., 0., 0., 0., 0., 0., 1., 0., 0., 0., 0., 0., 1., 0., 0., 1.,\n",
       "        0., 0., 0., 1., 1., 1., 0., 0., 0., 1., 1., 1., 1., 0., 0., 0.,\n",
       "        0., 0., 1., 1., 0., 1., 1., 0., 1., 0., 0., 1., 1., 0., 1., 0.]])"
      ]
     },
     "execution_count": 33,
     "metadata": {},
     "output_type": "execute_result"
    }
   ],
   "source": [
    "ypred"
   ]
  },
  {
   "cell_type": "code",
   "execution_count": 34,
   "id": "1af32396",
   "metadata": {
    "scrolled": true
   },
   "outputs": [
    {
     "name": "stdout",
     "output_type": "stream",
     "text": [
      "Actual values: [1 0 0 0 0 1 1 1 1 0 1 0 0 0 1 0 1 0 0 0 0 0 1 1 1]\n",
      "Predic values: [[1. 1. 1. 0. 0. 1. 1. 0. 1. 0. 1. 0. 0. 0. 1. 0. 0. 0. 0. 1. 1. 0. 0. 1.\n",
      "  1. 0. 0. 0. 1. 1. 0. 1. 1. 0. 1. 0. 1. 0. 0. 1. 0. 0. 0. 1. 0. 1. 1. 0.\n",
      "  0. 0. 0. 0. 0. 0. 0. 0. 1. 1. 1. 1. 0. 1. 1. 0. 0. 0. 1. 0. 0. 0. 1. 1.\n",
      "  1. 0. 1. 0. 0. 1. 1. 0. 0. 1. 1. 1. 1. 0. 1. 0. 1. 1. 0. 1. 0. 0. 1. 0.\n",
      "  1. 1. 0. 0. 0. 1. 0. 0. 0. 1. 0. 1. 1. 0. 1. 0. 1. 1. 1. 0. 0. 1. 1. 0.\n",
      "  1. 1. 0. 1. 0. 1. 0. 0. 0. 0. 0. 1. 1. 0. 0. 0. 0. 1. 0. 0. 1. 1. 1. 0.\n",
      "  0. 0. 0. 0. 0. 0. 1. 0. 0. 0. 0. 0. 1. 0. 0. 1. 0. 0. 0. 1. 1. 1. 0. 0.\n",
      "  0. 1. 1. 1. 1. 0. 0. 0. 0. 0. 1. 1. 0. 1. 1. 0. 1. 0. 0. 1. 1. 0. 1. 0.]]\n"
     ]
    }
   ],
   "source": [
    "print(f'Actual values: {ytest[:25].values}')\n",
    "print(f'Predic values: {ypred[:25]}')"
   ]
  },
  {
   "cell_type": "code",
   "execution_count": 37,
   "id": "5dd10302",
   "metadata": {},
   "outputs": [],
   "source": [
    "from sklearn.metrics import roc_curve\n",
    "fpr, tpr, thres = roc_curve(ytest, ypredprob)"
   ]
  },
  {
   "cell_type": "code",
   "execution_count": 38,
   "id": "083bafd1",
   "metadata": {},
   "outputs": [
    {
     "data": {
      "text/plain": [
       "array([1.96335984, 0.96335984, 0.80161705, 0.79806024, 0.78079832,\n",
       "       0.77951312, 0.7754836 , 0.77371245, 0.74070373, 0.73781604,\n",
       "       0.71151441, 0.68877272, 0.63302423, 0.62707447, 0.61806911,\n",
       "       0.59993984, 0.56924357, 0.56877678, 0.5628317 , 0.55666796,\n",
       "       0.53949206, 0.52283911, 0.48340907, 0.47982204, 0.46970069,\n",
       "       0.4585746 , 0.42792597, 0.40032021, 0.38244908, 0.37309921,\n",
       "       0.35037646, 0.31489008, 0.31008158, 0.3094731 , 0.30783363,\n",
       "       0.29198698, 0.29050283, 0.28771864, 0.28704159, 0.27754938,\n",
       "       0.27736724, 0.27055582, 0.26695532, 0.26464879, 0.25180372,\n",
       "       0.24471817, 0.24302282, 0.21410815, 0.21295012, 0.20855056,\n",
       "       0.20804687, 0.19783743, 0.18287774, 0.17983083, 0.17864004,\n",
       "       0.15871972, 0.15740856, 0.14230942, 0.14058417, 0.13810356,\n",
       "       0.13739289, 0.13175101, 0.13148688, 0.02270758])"
      ]
     },
     "execution_count": 38,
     "metadata": {},
     "output_type": "execute_result"
    }
   ],
   "source": [
    "thres"
   ]
  },
  {
   "cell_type": "code",
   "execution_count": 39,
   "id": "d9f6a847",
   "metadata": {},
   "outputs": [
    {
     "data": {
      "image/png": "[encoded data removed]",
      "text/plain": [
       "<Figure size 432x288 with 1 Axes>"
      ]
     },
     "metadata": {
      "needs_background": "light"
     },
     "output_type": "display_data"
    }
   ],
   "source": [
    "plt.title(\"TPR vs FPR\")\n",
    "plt.plot(fpr, tpr)\n",
    "plt.xlabel(\"FPR\")\n",
    "plt.ylabel(\"TPR\")\n",
    "plt.grid()\n",
    "plt.show()"
   ]
  },
  {
   "cell_type": "code",
   "execution_count": null,
   "id": "9faeb0c6",
   "metadata": {},
   "outputs": [],
   "source": []
  }
 ],
 "metadata": {
  "kernelspec": {
   "display_name": "Python 3 (ipykernel)",
   "language": "python",
   "name": "python3"
  },
  "language_info": {
   "codemirror_mode": {
    "name": "ipython",
    "version": 3
   },
   "file_extension": ".py",
   "mimetype": "text/x-python",
   "name": "python",
   "nbconvert_exporter": "python",
   "pygments_lexer": "ipython3",
   "version": "3.9.12"
  }
 },
 "nbformat": 4,
 "nbformat_minor": 5
}
