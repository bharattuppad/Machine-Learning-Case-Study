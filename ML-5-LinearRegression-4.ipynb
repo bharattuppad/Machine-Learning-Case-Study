{
 "cells": [
  {
   "cell_type": "code",
   "execution_count": 2,
   "id": "02ad8cf5",
   "metadata": {},
   "outputs": [],
   "source": [
    "import numpy as np\n",
    "import pandas as pd\n",
    "import matplotlib.pyplot as plt\n",
    "import seaborn as sns\n",
    "\n",
    "import warnings\n",
    "warnings.filterwarnings(\"ignore\")"
   ]
  },
  {
   "cell_type": "code",
   "execution_count": 3,
   "id": "39732d7c",
   "metadata": {},
   "outputs": [],
   "source": [
    "df = pd.read_csv(\"Position_Salaries.csv\")"
   ]
  },
  {
   "cell_type": "code",
   "execution_count": 4,
   "id": "4c152c8a",
   "metadata": {},
   "outputs": [
    {
     "data": {
      "text/html": [
       "<div>\n",
       "<style scoped>\n",
       "    .dataframe tbody tr th:only-of-type {\n",
       "        vertical-align: middle;\n",
       "    }\n",
       "\n",
       "    .dataframe tbody tr th {\n",
       "        vertical-align: top;\n",
       "    }\n",
       "\n",
       "    .dataframe thead th {\n",
       "        text-align: right;\n",
       "    }\n",
       "</style>\n",
       "<table border=\"1\" class=\"dataframe\">\n",
       "  <thead>\n",
       "    <tr style=\"text-align: right;\">\n",
       "      <th></th>\n",
       "      <th>Position</th>\n",
       "      <th>Level</th>\n",
       "      <th>Salary</th>\n",
       "    </tr>\n",
       "  </thead>\n",
       "  <tbody>\n",
       "    <tr>\n",
       "      <th>0</th>\n",
       "      <td>Business Analyst</td>\n",
       "      <td>1</td>\n",
       "      <td>45000</td>\n",
       "    </tr>\n",
       "    <tr>\n",
       "      <th>1</th>\n",
       "      <td>Junior Consultant</td>\n",
       "      <td>2</td>\n",
       "      <td>50000</td>\n",
       "    </tr>\n",
       "    <tr>\n",
       "      <th>2</th>\n",
       "      <td>Senior Consultant</td>\n",
       "      <td>3</td>\n",
       "      <td>60000</td>\n",
       "    </tr>\n",
       "    <tr>\n",
       "      <th>3</th>\n",
       "      <td>Manager</td>\n",
       "      <td>4</td>\n",
       "      <td>80000</td>\n",
       "    </tr>\n",
       "    <tr>\n",
       "      <th>4</th>\n",
       "      <td>Country Manager</td>\n",
       "      <td>5</td>\n",
       "      <td>110000</td>\n",
       "    </tr>\n",
       "    <tr>\n",
       "      <th>5</th>\n",
       "      <td>Region Manager</td>\n",
       "      <td>6</td>\n",
       "      <td>150000</td>\n",
       "    </tr>\n",
       "    <tr>\n",
       "      <th>6</th>\n",
       "      <td>Partner</td>\n",
       "      <td>7</td>\n",
       "      <td>200000</td>\n",
       "    </tr>\n",
       "    <tr>\n",
       "      <th>7</th>\n",
       "      <td>Senior Partner</td>\n",
       "      <td>8</td>\n",
       "      <td>300000</td>\n",
       "    </tr>\n",
       "    <tr>\n",
       "      <th>8</th>\n",
       "      <td>C-level</td>\n",
       "      <td>9</td>\n",
       "      <td>500000</td>\n",
       "    </tr>\n",
       "    <tr>\n",
       "      <th>9</th>\n",
       "      <td>CEO</td>\n",
       "      <td>10</td>\n",
       "      <td>1000000</td>\n",
       "    </tr>\n",
       "  </tbody>\n",
       "</table>\n",
       "</div>"
      ],
      "text/plain": [
       "            Position  Level   Salary\n",
       "0   Business Analyst      1    45000\n",
       "1  Junior Consultant      2    50000\n",
       "2  Senior Consultant      3    60000\n",
       "3            Manager      4    80000\n",
       "4    Country Manager      5   110000\n",
       "5     Region Manager      6   150000\n",
       "6            Partner      7   200000\n",
       "7     Senior Partner      8   300000\n",
       "8            C-level      9   500000\n",
       "9                CEO     10  1000000"
      ]
     },
     "execution_count": 4,
     "metadata": {},
     "output_type": "execute_result"
    }
   ],
   "source": [
    "df"
   ]
  },
  {
   "cell_type": "markdown",
   "id": "e9a99495",
   "metadata": {},
   "source": [
    "- No need of encoding the dataset because it is already levelled and encoded"
   ]
  },
  {
   "cell_type": "code",
   "execution_count": 12,
   "id": "36a0da70",
   "metadata": {},
   "outputs": [],
   "source": [
    "x = df[['Level']].values"
   ]
  },
  {
   "cell_type": "code",
   "execution_count": 13,
   "id": "52efeead",
   "metadata": {},
   "outputs": [],
   "source": [
    "y = df['Salary'].values"
   ]
  },
  {
   "cell_type": "markdown",
   "id": "7997a9ef",
   "metadata": {},
   "source": [
    "### Splitting the data into train and test data "
   ]
  },
  {
   "cell_type": "code",
   "execution_count": 8,
   "id": "0384c501",
   "metadata": {},
   "outputs": [],
   "source": [
    "from sklearn.model_selection import train_test_split"
   ]
  },
  {
   "cell_type": "code",
   "execution_count": null,
   "id": "e159c731",
   "metadata": {},
   "outputs": [],
   "source": [
    "xtrain, xtest, ytrain, ytest = train_test_split(x, y, test_size=0.3,)"
   ]
  },
  {
   "cell_type": "markdown",
   "id": "b55fafc7",
   "metadata": {},
   "source": [
    "- No need to split data as the quantum is small"
   ]
  },
  {
   "cell_type": "code",
   "execution_count": 9,
   "id": "898c9a0f",
   "metadata": {},
   "outputs": [],
   "source": [
    "#model import\n",
    "from sklearn.linear_model import LinearRegression"
   ]
  },
  {
   "cell_type": "code",
   "execution_count": 10,
   "id": "2650f107",
   "metadata": {},
   "outputs": [],
   "source": [
    "lr = LinearRegression()"
   ]
  },
  {
   "cell_type": "code",
   "execution_count": 14,
   "id": "1744bcaf",
   "metadata": {},
   "outputs": [
    {
     "data": {
      "text/plain": [
       "LinearRegression()"
      ]
     },
     "execution_count": 14,
     "metadata": {},
     "output_type": "execute_result"
    }
   ],
   "source": [
    "lr.fit(x,y)"
   ]
  },
  {
   "cell_type": "code",
   "execution_count": 16,
   "id": "6315d8c8",
   "metadata": {},
   "outputs": [],
   "source": [
    "ypred = lr.predict(x)\n",
    "#it is going to predict y against the same x based on whatever it learnt"
   ]
  },
  {
   "cell_type": "code",
   "execution_count": 17,
   "id": "0a1e14e4",
   "metadata": {},
   "outputs": [],
   "source": [
    "from sklearn.metrics import r2_score"
   ]
  },
  {
   "cell_type": "code",
   "execution_count": 18,
   "id": "bedbe7c5",
   "metadata": {},
   "outputs": [
    {
     "data": {
      "text/plain": [
       "0.6690412331929895"
      ]
     },
     "execution_count": 18,
     "metadata": {},
     "output_type": "execute_result"
    }
   ],
   "source": [
    "r2_score(y,ypred)"
   ]
  },
  {
   "cell_type": "code",
   "execution_count": 19,
   "id": "207ba953",
   "metadata": {},
   "outputs": [],
   "source": [
    "from sklearn.metrics import mean_absolute_error"
   ]
  },
  {
   "cell_type": "code",
   "execution_count": 20,
   "id": "57f1aa64",
   "metadata": {},
   "outputs": [
    {
     "data": {
      "text/plain": [
       "128454.54545454546"
      ]
     },
     "execution_count": 20,
     "metadata": {},
     "output_type": "execute_result"
    }
   ],
   "source": [
    "mean_absolute_error(y,ypred)"
   ]
  },
  {
   "cell_type": "code",
   "execution_count": 21,
   "id": "f8562d3b",
   "metadata": {},
   "outputs": [],
   "source": [
    "from sklearn.metrics import mean_squared_error"
   ]
  },
  {
   "cell_type": "code",
   "execution_count": 22,
   "id": "e1a6b897",
   "metadata": {},
   "outputs": [
    {
     "data": {
      "text/plain": [
       "26695878787.878788"
      ]
     },
     "execution_count": 22,
     "metadata": {},
     "output_type": "execute_result"
    }
   ],
   "source": [
    "mean_squared_error(y,ypred)"
   ]
  },
  {
   "cell_type": "code",
   "execution_count": 23,
   "id": "c705b995",
   "metadata": {},
   "outputs": [
    {
     "data": {
      "text/plain": [
       "163388.73519272613"
      ]
     },
     "execution_count": 23,
     "metadata": {},
     "output_type": "execute_result"
    }
   ],
   "source": [
    "np.sqrt(mean_squared_error(y,ypred))"
   ]
  },
  {
   "cell_type": "code",
   "execution_count": 28,
   "id": "b1716da7",
   "metadata": {},
   "outputs": [
    {
     "data": {
      "image/png": "[encoded data removed]",
      "text/plain": [
       "<Figure size 576x432 with 1 Axes>"
      ]
     },
     "metadata": {
      "needs_background": "light"
     },
     "output_type": "display_data"
    }
   ],
   "source": [
    "plt.figure(figsize=(8,6))\n",
    "\n",
    "plt.scatter(x,y, color='red')\n",
    "\n",
    "plt.plot(x,ypred)\n",
    "\n",
    "plt.show()"
   ]
  },
  {
   "cell_type": "markdown",
   "id": "9f41e69c",
   "metadata": {},
   "source": [
    "- we can see from the above plot that this linear best fit line is not fitting most of the points.\n",
    "\n",
    "- Hence we need to give degree to this line in order to increase the accuracy\n",
    "\n",
    "- for this we are going to transform the features to poly features or polynomial features\n",
    "\n",
    "- poly features are the features that we raise to an exponent value to increase the accuracy or to get the best fit curve"
   ]
  },
  {
   "cell_type": "code",
   "execution_count": 29,
   "id": "049fe426",
   "metadata": {},
   "outputs": [],
   "source": [
    "from sklearn.preprocessing import PolynomialFeatures"
   ]
  },
  {
   "cell_type": "code",
   "execution_count": 35,
   "id": "7be4b95a",
   "metadata": {},
   "outputs": [],
   "source": [
    "pf = PolynomialFeatures(degree=2)\n",
    "\n",
    "#degree here is hyper parameter.. we are doing hyper parameter tuning here\n",
    "\n",
    "#there is no best degree"
   ]
  },
  {
   "cell_type": "code",
   "execution_count": 34,
   "id": "7a1648d8",
   "metadata": {},
   "outputs": [],
   "source": [
    "poly_x = pf.fit_transform(x)"
   ]
  },
  {
   "cell_type": "code",
   "execution_count": 36,
   "id": "568df382",
   "metadata": {},
   "outputs": [
    {
     "data": {
      "text/plain": [
       "LinearRegression()"
      ]
     },
     "execution_count": 36,
     "metadata": {},
     "output_type": "execute_result"
    }
   ],
   "source": [
    "lr.fit(poly_x,y)"
   ]
  },
  {
   "cell_type": "code",
   "execution_count": 37,
   "id": "fab223f7",
   "metadata": {},
   "outputs": [],
   "source": [
    "ypred_2 = lr.predict(poly_x)"
   ]
  },
  {
   "cell_type": "code",
   "execution_count": 38,
   "id": "98919789",
   "metadata": {},
   "outputs": [
    {
     "data": {
      "text/plain": [
       "0.9162082221443942"
      ]
     },
     "execution_count": 38,
     "metadata": {},
     "output_type": "execute_result"
    }
   ],
   "source": [
    "r2_score(y,ypred_2)"
   ]
  },
  {
   "cell_type": "code",
   "execution_count": 39,
   "id": "5422f300",
   "metadata": {},
   "outputs": [
    {
     "data": {
      "image/png": "[encoded data removed]",
      "text/plain": [
       "<Figure size 576x432 with 1 Axes>"
      ]
     },
     "metadata": {
      "needs_background": "light"
     },
     "output_type": "display_data"
    }
   ],
   "source": [
    "plt.figure(figsize=(8,6))\n",
    "\n",
    "plt.scatter(x,y, color='red')\n",
    "\n",
    "plt.plot(x,ypred_2)\n",
    "\n",
    "plt.show()"
   ]
  },
  {
   "cell_type": "code",
   "execution_count": 41,
   "id": "d2819d0f",
   "metadata": {},
   "outputs": [],
   "source": [
    "pf = PolynomialFeatures(degree=3)\n",
    "poly_x2 = pf.fit_transform(x)\n",
    "lr.fit(poly_x2,y)\n",
    "ypred_3 = lr.predict(poly_x2)"
   ]
  },
  {
   "cell_type": "code",
   "execution_count": 42,
   "id": "1ccda8ea",
   "metadata": {},
   "outputs": [
    {
     "data": {
      "text/plain": [
       "0.9812097727913367"
      ]
     },
     "execution_count": 42,
     "metadata": {},
     "output_type": "execute_result"
    }
   ],
   "source": [
    "r2_score(y,ypred_3)"
   ]
  },
  {
   "cell_type": "code",
   "execution_count": 43,
   "id": "3dc8978c",
   "metadata": {},
   "outputs": [
    {
     "data": {
      "image/png": "[encoded data removed]",
      "text/plain": [
       "<Figure size 576x432 with 1 Axes>"
      ]
     },
     "metadata": {
      "needs_background": "light"
     },
     "output_type": "display_data"
    }
   ],
   "source": [
    "plt.figure(figsize=(8,6))\n",
    "\n",
    "plt.scatter(x,y, color='red')\n",
    "\n",
    "plt.plot(x,ypred_3)\n",
    "\n",
    "plt.show()"
   ]
  },
  {
   "cell_type": "code",
   "execution_count": 45,
   "id": "cee20923",
   "metadata": {},
   "outputs": [],
   "source": [
    "pf = PolynomialFeatures(degree=4)\n",
    "poly_x3 = pf.fit_transform(x)\n",
    "lr.fit(poly_x3,y)\n",
    "ypred_4 = lr.predict(poly_x3)"
   ]
  },
  {
   "cell_type": "code",
   "execution_count": 47,
   "id": "48401589",
   "metadata": {},
   "outputs": [
    {
     "data": {
      "text/plain": [
       "0.9973922891706614"
      ]
     },
     "execution_count": 47,
     "metadata": {},
     "output_type": "execute_result"
    }
   ],
   "source": [
    "r2_score(y,ypred_4)"
   ]
  },
  {
   "cell_type": "code",
   "execution_count": 48,
   "id": "bae249a8",
   "metadata": {},
   "outputs": [
    {
     "data": {
      "image/png": "[encoded data removed]",
      "text/plain": [
       "<Figure size 576x432 with 1 Axes>"
      ]
     },
     "metadata": {
      "needs_background": "light"
     },
     "output_type": "display_data"
    }
   ],
   "source": [
    "plt.figure(figsize=(8,6))\n",
    "\n",
    "plt.scatter(x,y, color='red')\n",
    "\n",
    "plt.plot(x,ypred_4)\n",
    "\n",
    "plt.show()"
   ]
  },
  {
   "cell_type": "markdown",
   "id": "3f4d4c74",
   "metadata": {},
   "source": [
    "- polynomial regression is a regression algorithm that models a relationship between x & y as nth degree\n",
    "- the dataset used in polynomial regression is of non linear nature\n",
    "- in polynomial regression the original featues are converted into polynomial features of required degree and then modeled using linear model\n",
    "\n",
    "what is the need of polynomial regression ?\n",
    "\n",
    "- if we apply linear regression on non linear dataset then the accuracy will be less & error rate will be high\n",
    "- for such cases where data points are arranged in a non linear fashion we need polynomial regression model"
   ]
  },
  {
   "cell_type": "code",
   "execution_count": null,
   "id": "78a05320",
   "metadata": {},
   "outputs": [],
   "source": []
  }
 ],
 "metadata": {
  "kernelspec": {
   "display_name": "Python 3 (ipykernel)",
   "language": "python",
   "name": "python3"
  },
  "language_info": {
   "codemirror_mode": {
    "name": "ipython",
    "version": 3
   },
   "file_extension": ".py",
   "mimetype": "text/x-python",
   "name": "python",
   "nbconvert_exporter": "python",
   "pygments_lexer": "ipython3",
   "version": "3.9.12"
  }
 },
 "nbformat": 4,
 "nbformat_minor": 5
}
